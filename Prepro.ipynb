{
  "cells": [
    {
      "cell_type": "code",
      "execution_count": 1,
      "metadata": {
        "colab": {
          "base_uri": "https://localhost:8080/"
        },
        "id": "gkaAjF5qZnF7",
        "outputId": "2f2c8d1d-de7e-41a7-93eb-ba7a3611b419"
      },
      "outputs": [
        {
          "output_type": "stream",
          "name": "stdout",
          "text": [
            "Mounted at /content/drive\n"
          ]
        }
      ],
      "source": [
        "from google.colab import drive \n",
        "drive.mount('/content/drive')\n",
        "import matplotlib.pyplot as plt\n",
        "import os\n",
        "myDirFiles= '/content/drive/MyDrive/Hackhaton/APBD/'\n",
        "os.chdir(myDirFiles)\n",
        "\n"
      ]
    },
    {
      "cell_type": "code",
      "execution_count": null,
      "metadata": {
        "id": "EQY-NUSPS-N7"
      },
      "outputs": [],
      "source": [
        "def logic(index):\n",
        "    index= 1\n",
        "    if index % 50 == 0:\n",
        "       return True\n",
        "    return False\n",
        "import pandas as pd\n",
        "data = pd.read_csv('A2022_dataset_buat bedah data.csv', sep = ';',\n",
        "                   engine = 'python',nrows=1000000 ,skiprows= lambda x: logic(x) )\n",
        "data\n"
      ]
    },
    {
      "cell_type": "code",
      "execution_count": null,
      "metadata": {
        "id": "IdrFDiOjecv3"
      },
      "outputs": [],
      "source": [
        "data.drop(['kodeakunsubsubsubrinci', 'namaakunsubsubsubrinci' , 'catatan'], axis=1,inplace= True)"
      ]
    },
    {
      "cell_type": "code",
      "execution_count": null,
      "metadata": {
        "id": "hyfzV_3bx-Pu"
      },
      "outputs": [],
      "source": [
        "data.info()"
      ]
    },
    {
      "cell_type": "markdown",
      "metadata": {
        "id": "s8r4L95Zfil9"
      },
      "source": [
        "## Pedoman berhadapan dengan data NaN\n",
        "Jumlah data yang missing > 60% \\\n",
        "● Menghapus kolom tersebut \\\n",
        "Categoric \\\n",
        "● Mengisi dengan kategori paling\\\n",
        "banyak\\\n",
        "● Mengisi dengan “other”\\\n",
        "Numeric\\\n",
        "● Mengisi dengan rata-rata/median\\\n",
        "● Mengisi dengan nilai 0"
      ]
    },
    {
      "cell_type": "markdown",
      "metadata": {
        "id": "GoShJ_9udgPb"
      },
      "source": [
        "#Preprocessing kolom data['namaaplikasi]"
      ]
    },
    {
      "cell_type": "code",
      "execution_count": null,
      "metadata": {
        "id": "ReMimcqfdf2r"
      },
      "outputs": [],
      "source": [
        "data['namaaplikasi'].unique()"
      ]
    },
    {
      "cell_type": "code",
      "execution_count": null,
      "metadata": {
        "id": "NR7NkEhUdsfV"
      },
      "outputs": [],
      "source": [
        "data['namaaplikasi'].isna().sum()"
      ]
    },
    {
      "cell_type": "code",
      "execution_count": null,
      "metadata": {
        "id": "u-qYtwlfeD8E"
      },
      "outputs": [],
      "source": [
        "a=len(data['namaaplikasi'])\n",
        "data.groupby('namaaplikasi').size() / a * 100"
      ]
    },
    {
      "cell_type": "code",
      "execution_count": null,
      "metadata": {
        "id": "PXqH1E9Nel9R"
      },
      "outputs": [],
      "source": [
        "data['namaaplikasi'].fillna('Other', inplace = True)\n",
        "data['namaaplikasi'].unique()"
      ]
    },
    {
      "cell_type": "code",
      "execution_count": null,
      "metadata": {
        "id": "ZY2z0u1igd0H"
      },
      "outputs": [],
      "source": [
        "data['namaaplikasi'].isna().sum()"
      ]
    },
    {
      "cell_type": "code",
      "execution_count": null,
      "metadata": {
        "id": "LUY75EuYhnkX"
      },
      "outputs": [],
      "source": [
        "a=len(data['namaaplikasi'])\n",
        "data.groupby('namaaplikasi').size() / a * 100"
      ]
    },
    {
      "cell_type": "markdown",
      "metadata": {
        "id": "WTTKX2wriJfe"
      },
      "source": [
        "#Preprocessing kolom data['pengembangaplikasi']"
      ]
    },
    {
      "cell_type": "code",
      "execution_count": null,
      "metadata": {
        "id": "Iwx7eoWxiLFp"
      },
      "outputs": [],
      "source": [
        "data['pengembangaplikasi'].value_counts()"
      ]
    },
    {
      "cell_type": "code",
      "execution_count": null,
      "metadata": {
        "id": "Gv8vLn0yikTS"
      },
      "outputs": [],
      "source": [
        "data['pengembangaplikasi'].isna().sum()"
      ]
    },
    {
      "cell_type": "code",
      "execution_count": null,
      "metadata": {
        "id": "TkuB22OziokJ"
      },
      "outputs": [],
      "source": [
        "data['pengembangaplikasi'].fillna('Other', inplace = True)\n",
        "data['pengembangaplikasi'].isna().sum()"
      ]
    },
    {
      "cell_type": "code",
      "execution_count": null,
      "metadata": {
        "id": "8mjEN5sRi0rk"
      },
      "outputs": [],
      "source": [
        "data['pengembangaplikasi'].value_counts()"
      ]
    },
    {
      "cell_type": "markdown",
      "metadata": {
        "id": "yfmri0nTjUg2"
      },
      "source": [
        "#Preprocessing kolom data['namafungsi']"
      ]
    },
    {
      "cell_type": "code",
      "execution_count": null,
      "metadata": {
        "id": "vMwu3wRhjZl1"
      },
      "outputs": [],
      "source": [
        "data['namafungsi'].value_counts()"
      ]
    },
    {
      "cell_type": "code",
      "execution_count": null,
      "metadata": {
        "id": "Lcoly-V9obXQ"
      },
      "outputs": [],
      "source": [
        "data['namafungsi'].fillna('Other', inplace = True)\n",
        "data['namafungsi'].isna().sum()"
      ]
    },
    {
      "cell_type": "code",
      "execution_count": null,
      "metadata": {
        "id": "uzhYUXurjh0O"
      },
      "outputs": [],
      "source": [
        "def gg(x):\n",
        "  if pd.isnull(x):\n",
        "    return x\n",
        "  elif x == 'perumahan dan fasilitasi umum':\n",
        "    return x =='perumahan dan fasilitas umum'\n",
        "  elif x == 'ketertiban dan ketentraman':\n",
        "    return x =='ketertiban dan keamanan'\n",
        "  else:\n",
        "    x= x.strip()\n",
        "    x= x.lower()\n",
        "    return x\n",
        "  \n",
        "data['namafungsi'] = data['namafungsi'].apply(gg)\n",
        "data['namafungsi'].value_counts()"
      ]
    },
    {
      "cell_type": "code",
      "execution_count": null,
      "metadata": {
        "id": "C8o9RJgGmOSK"
      },
      "outputs": [],
      "source": [
        "data['namafungsi'].isna().sum()"
      ]
    },
    {
      "cell_type": "code",
      "execution_count": null,
      "metadata": {
        "id": "-436UzatmpZq"
      },
      "outputs": [],
      "source": [
        "data['namafungsi'].value_counts()"
      ]
    },
    {
      "cell_type": "code",
      "execution_count": null,
      "metadata": {
        "id": "F1vcTFE_3W3P"
      },
      "outputs": [],
      "source": [
        "data['namafungsi']= data['namafungsi'].replace({'perumahan dan fasilitasi umum' : 'perumahan dan fasilitas umum', 'ketertiban dan ketentraman' : 'ketertiban dan keamanan'})"
      ]
    },
    {
      "cell_type": "code",
      "execution_count": null,
      "metadata": {
        "id": "ZO-aMyxt30pX"
      },
      "outputs": [],
      "source": [
        "data['namafungsi'].value_counts()"
      ]
    },
    {
      "cell_type": "code",
      "execution_count": null,
      "metadata": {
        "id": "pJEaWl7Rm0xb"
      },
      "outputs": [],
      "source": [
        "f= data[data['namafungsi']== 'other'] \n",
        "f.loc[: ,['namafungsi', 'kodefungsi', 'kodesubfungsi', 'namasubfungsi']]"
      ]
    },
    {
      "cell_type": "markdown",
      "metadata": {
        "id": "PN4UcoA9i51i"
      },
      "source": [
        "#Preprocessing kolom data['kodefungsi ']"
      ]
    },
    {
      "cell_type": "code",
      "execution_count": null,
      "metadata": {
        "id": "5xa3znoCi_4S"
      },
      "outputs": [],
      "source": [
        "data['kodefungsi'].value_counts()"
      ]
    },
    {
      "cell_type": "code",
      "execution_count": null,
      "metadata": {
        "id": "SOGL918ymtxh"
      },
      "outputs": [],
      "source": [
        "data['kodefungsi'].isna().sum()"
      ]
    },
    {
      "cell_type": "code",
      "execution_count": null,
      "metadata": {
        "id": "TDlzONukpONu"
      },
      "outputs": [],
      "source": [
        "data['kodefungsi'].fillna(0, inplace= True)"
      ]
    },
    {
      "cell_type": "code",
      "execution_count": null,
      "metadata": {
        "id": "VydhZyJjpVIA"
      },
      "outputs": [],
      "source": [
        "data['kodefungsi'].value_counts()"
      ]
    },
    {
      "cell_type": "markdown",
      "metadata": {
        "id": "AM3gtIjLpdgw"
      },
      "source": [
        "#Preprocessing kolom data['namasubfungsi']"
      ]
    },
    {
      "cell_type": "code",
      "execution_count": null,
      "metadata": {
        "id": "wY9SEGgTpekD"
      },
      "outputs": [],
      "source": [
        "p= len(data['namasubfungsi'])\n",
        "data.groupby('namasubfungsi').size() / p * 100"
      ]
    },
    {
      "cell_type": "code",
      "execution_count": null,
      "metadata": {
        "id": "tlsnZVsxsHNC"
      },
      "outputs": [],
      "source": [
        "data['namasubfungsi'].isna().sum()"
      ]
    },
    {
      "cell_type": "code",
      "execution_count": null,
      "metadata": {
        "id": "-L_QYFyxKfst"
      },
      "outputs": [],
      "source": [
        "data['namasubfungsi'].fillna('Other', inplace = True)"
      ]
    },
    {
      "cell_type": "code",
      "execution_count": null,
      "metadata": {
        "id": "8iBZJYEpK1Jj"
      },
      "outputs": [],
      "source": [
        "data['namasubfungsi'].isna().sum()"
      ]
    },
    {
      "cell_type": "code",
      "execution_count": null,
      "metadata": {
        "id": "U7ITull1qRZ5"
      },
      "outputs": [],
      "source": [
        "import re\n",
        "data['namasubfungsi'] = [re.sub('[^a-zA-Z\\s]', '', x) for x in data['namasubfungsi'].astype(str)]\n",
        "data['namasubfungsi'].value_counts()"
      ]
    },
    {
      "cell_type": "code",
      "execution_count": null,
      "metadata": {
        "id": "ruiMU4Qa5WkF"
      },
      "outputs": [],
      "source": [
        "data['namasubfungsi']= data['namasubfungsi'].replace({'' : 'Other'})\n",
        "data['namasubfungsi'].value_counts()"
      ]
    },
    {
      "cell_type": "markdown",
      "metadata": {
        "id": "oI1d4o-eIc-i"
      },
      "source": [
        "#Preprocessing kolom data['namaoutcome']"
      ]
    },
    {
      "cell_type": "code",
      "execution_count": null,
      "metadata": {
        "id": "K-4rzwNgIatg"
      },
      "outputs": [],
      "source": [
        "p= len(data['namaoutcome'])\n",
        "data.groupby('namaoutcome').size() / p * 100 "
      ]
    },
    {
      "cell_type": "code",
      "execution_count": null,
      "metadata": {
        "id": "ZPns3dBChnoY"
      },
      "outputs": [],
      "source": [
        "data['namaoutcome'].isna().sum()"
      ]
    },
    {
      "cell_type": "code",
      "execution_count": null,
      "metadata": {
        "id": "kFXIKwjrhwSN"
      },
      "outputs": [],
      "source": [
        "data['namaoutcome'].fillna('Other', inplace= True)"
      ]
    },
    {
      "cell_type": "code",
      "execution_count": null,
      "metadata": {
        "id": "b7es45GbhWIV"
      },
      "outputs": [],
      "source": [
        "data['namaoutcome'] = [re.sub('[^a-zA-Z\\s]', '', x) for x in data['namaoutcome'].astype(str)]\n",
        "data['namaoutcome'].value_counts()"
      ]
    },
    {
      "cell_type": "code",
      "execution_count": null,
      "metadata": {
        "id": "MfNbDhInN-AR"
      },
      "outputs": [],
      "source": [
        "data['namaoutcome'].unique()"
      ]
    },
    {
      "cell_type": "code",
      "execution_count": null,
      "metadata": {
        "id": "m1R1f4-jzfKC"
      },
      "outputs": [],
      "source": [
        "data['namaoutcome'] = data['namaoutcome'].replace({\"\": 'Other'})"
      ]
    },
    {
      "cell_type": "code",
      "execution_count": null,
      "metadata": {
        "id": "wpd_I-rH6OB6"
      },
      "outputs": [],
      "source": [
        "data['namaoutcome'] = [x.title() for x in data['namaoutcome']]"
      ]
    },
    {
      "cell_type": "code",
      "execution_count": null,
      "metadata": {
        "id": "m1PBLHa0znwL"
      },
      "outputs": [],
      "source": [
        "data['namaoutcome'].unique()"
      ]
    },
    {
      "cell_type": "markdown",
      "metadata": {
        "id": "OP88qFRBuQBf"
      },
      "source": [
        "#Preprocessing kolom data['kodekegiatan', 'namakegiatan', 'kodesubkegiatan', namasubkegiatan]"
      ]
    },
    {
      "cell_type": "code",
      "execution_count": null,
      "metadata": {
        "id": "pYQfQoZSuYQG"
      },
      "outputs": [],
      "source": [
        "data['kodekegiatan'].value_counts()"
      ]
    },
    {
      "cell_type": "code",
      "execution_count": null,
      "metadata": {
        "id": "E7IxWHTAuyAJ"
      },
      "outputs": [],
      "source": [
        "data['kodekegiatan'].isna().sum()"
      ]
    },
    {
      "cell_type": "code",
      "execution_count": null,
      "metadata": {
        "id": "f-hK58ffvNNM"
      },
      "outputs": [],
      "source": [
        "data['kodekegiatan'].fillna('unknown', inplace= True)\n",
        "data['kodekegiatan'].isna().sum()"
      ]
    },
    {
      "cell_type": "code",
      "execution_count": null,
      "metadata": {
        "id": "xaWarccmvbLt"
      },
      "outputs": [],
      "source": [
        "data['namakegiatan'].fillna('unknown', inplace= True)\n",
        "data['namakegiatan'].isna().sum()"
      ]
    },
    {
      "cell_type": "code",
      "execution_count": null,
      "metadata": {
        "id": "NKWn7hPZwSVA"
      },
      "outputs": [],
      "source": [
        "data['kodesubkegiatan'].fillna('unknown', inplace= True)\n",
        "data['kodesubkegiatan'].isna().sum()"
      ]
    },
    {
      "cell_type": "code",
      "execution_count": null,
      "metadata": {
        "id": "3KV8Yv9BwcJv"
      },
      "outputs": [],
      "source": [
        "data['namasubkegiatan'].fillna('unknown', inplace= True)\n",
        "data['namasubkegiatan'].isna().sum()"
      ]
    },
    {
      "cell_type": "markdown",
      "metadata": {
        "id": "Z3OVe_7Swr1e"
      },
      "source": [
        "#Preprocessing kolom data['kodelokasi', 'namalokasi']"
      ]
    },
    {
      "cell_type": "code",
      "execution_count": null,
      "metadata": {
        "id": "UQ9Y8j3Sw2hI"
      },
      "outputs": [],
      "source": [
        "data['namalokasi'].value_counts()"
      ]
    },
    {
      "cell_type": "code",
      "execution_count": null,
      "metadata": {
        "id": "sr4uf3LDxANP"
      },
      "outputs": [],
      "source": [
        "data['namasubkegiatan'].fillna('unknown', inplace= True)\n",
        "data['namasubkegiatan'].isna().sum()"
      ]
    },
    {
      "cell_type": "markdown",
      "metadata": {
        "id": "w4aSaWnWcPdv"
      },
      "source": [
        "#Preprocessing kolom data['namaakunutama']"
      ]
    },
    {
      "cell_type": "code",
      "execution_count": null,
      "metadata": {
        "id": "Y67dAtDFVSby"
      },
      "outputs": [],
      "source": [
        "data['namaakunutama'].unique()\n"
      ]
    },
    {
      "cell_type": "code",
      "execution_count": null,
      "metadata": {
        "id": "dc1L4ZhJXee_"
      },
      "outputs": [],
      "source": [
        "def PS(x):\n",
        "  if pd.isnull(x):\n",
        "    return x\n",
        "  else:\n",
        "    return x.strip()\n",
        "  \n",
        "data['namaakunutama'] = data['namaakunutama'].apply(PS)\n",
        "data['namaakunutama'].unique()"
      ]
    },
    {
      "cell_type": "code",
      "execution_count": null,
      "metadata": {
        "id": "gwlPe3RVbk8J"
      },
      "outputs": [],
      "source": [
        "data['namaakunutama'].value_counts()"
      ]
    },
    {
      "cell_type": "code",
      "execution_count": null,
      "metadata": {
        "id": "6DxolAz4aHIi"
      },
      "outputs": [],
      "source": [
        "data['namaakunutama'].fillna('BELANJA DAERAH', inplace=True)\n",
        "data['namaakunutama'].isna().sum()"
      ]
    },
    {
      "cell_type": "code",
      "execution_count": null,
      "metadata": {
        "id": "zyUrlsE-cLsv"
      },
      "outputs": [],
      "source": [
        "data['namaakunutama']"
      ]
    },
    {
      "cell_type": "markdown",
      "metadata": {
        "id": "bZACu-lwcl4g"
      },
      "source": [
        "#Preprocessing kolom data['namasubkegiatan']"
      ]
    },
    {
      "cell_type": "code",
      "execution_count": null,
      "metadata": {
        "id": "b2YPHgYycayf"
      },
      "outputs": [],
      "source": [
        "data['namasubkegiatan'].value_counts()"
      ]
    },
    {
      "cell_type": "code",
      "execution_count": null,
      "metadata": {
        "id": "ESQnMKdOc09s"
      },
      "outputs": [],
      "source": [
        "data['namasubkegiatan'] = data['namasubkegiatan'].apply(PS)\n",
        "data['namasubkegiatan'].unique()"
      ]
    },
    {
      "cell_type": "code",
      "execution_count": null,
      "metadata": {
        "id": "aH8o8CUGcsOy"
      },
      "outputs": [],
      "source": [
        "data['namasubkegiatan'].isna().sum()"
      ]
    },
    {
      "cell_type": "code",
      "execution_count": null,
      "metadata": {
        "id": "7_sDRcyDdE-2"
      },
      "outputs": [],
      "source": [
        "data['namasubkegiatan'].value_counts()"
      ]
    },
    {
      "cell_type": "code",
      "execution_count": null,
      "metadata": {
        "id": "HtDJ8yqfc69s"
      },
      "outputs": [],
      "source": [
        "data['namasubkegiatan'].fillna('Other', inplace = True)\n",
        "data['namasubkegiatan'].isna().sum()"
      ]
    },
    {
      "cell_type": "markdown",
      "metadata": {
        "id": "T5xgv6eg7nLi"
      },
      "source": [
        "#Muardy\n"
      ]
    },
    {
      "cell_type": "markdown",
      "metadata": {
        "id": "L1dxVwKWLON9"
      },
      "source": [
        "# Data Cleaning"
      ]
    },
    {
      "cell_type": "markdown",
      "metadata": {
        "id": "IwS1ZMflPYJB"
      },
      "source": [
        "# Nama lokasi"
      ]
    },
    {
      "cell_type": "code",
      "execution_count": null,
      "metadata": {
        "id": "xPate8gi5FIi"
      },
      "outputs": [],
      "source": [
        "p= len(data['namalokasi'])\n",
        "data.groupby('namalokasi').size() / p * 100\n"
      ]
    },
    {
      "cell_type": "code",
      "execution_count": null,
      "metadata": {
        "id": "vWR0j1ig-VJz"
      },
      "outputs": [],
      "source": [
        "data['namalokasi'].isna().sum()"
      ]
    },
    {
      "cell_type": "code",
      "execution_count": null,
      "metadata": {
        "id": "7eimTWLI5OIh"
      },
      "outputs": [],
      "source": [
        "data['namalokasi'].fillna('Unknown', inplace=True)\n",
        "data['namalokasi'].isna().sum()"
      ]
    },
    {
      "cell_type": "code",
      "execution_count": null,
      "metadata": {
        "id": "kpul_WLq5XzY"
      },
      "outputs": [],
      "source": [
        "data['namalokasi'].unique()"
      ]
    },
    {
      "cell_type": "markdown",
      "metadata": {
        "id": "qexBrqDyPnTV"
      },
      "source": [
        "#Nama Akun Kelompok"
      ]
    },
    {
      "cell_type": "code",
      "execution_count": null,
      "metadata": {
        "id": "tyKX1w-yQdR9"
      },
      "outputs": [],
      "source": [
        "data['namaakunkelompok'].unique()\n"
      ]
    },
    {
      "cell_type": "code",
      "execution_count": null,
      "metadata": {
        "id": "InvKaPU6Rz22"
      },
      "outputs": [],
      "source": [
        "def PS(x):\n",
        "  if pd.isnull(x):\n",
        "    return x\n",
        "  else:\n",
        "    return x.strip()\n",
        "  \n",
        "data['namaakunkelompok'] = data['namaakunkelompok'].apply(PS)\n",
        "data['namaakunkelompok'].unique()"
      ]
    },
    {
      "cell_type": "code",
      "execution_count": null,
      "metadata": {
        "id": "o4BufdnHUKXN"
      },
      "outputs": [],
      "source": [
        "data['namaakunkelompok'].unique()"
      ]
    },
    {
      "cell_type": "code",
      "execution_count": null,
      "metadata": {
        "id": "_yV6KwiVWkiO"
      },
      "outputs": [],
      "source": [
        "p= len(data['namaakunkelompok'])\n",
        "data.groupby('namaakunkelompok').size() / p * 100"
      ]
    },
    {
      "cell_type": "code",
      "execution_count": null,
      "metadata": {
        "id": "JgS0ePw1Xx22"
      },
      "outputs": [],
      "source": [
        "data['namaakunkelompok'].isna().sum()"
      ]
    },
    {
      "cell_type": "code",
      "execution_count": null,
      "metadata": {
        "id": "G6zt2Gv3YGtW"
      },
      "outputs": [],
      "source": [
        "data['namaakunkelompok'].fillna('Unknown', inplace=True)\n",
        "data['namaakunkelompok'].isna().sum()"
      ]
    },
    {
      "cell_type": "markdown",
      "metadata": {
        "id": "DooOO2YaPvHh"
      },
      "source": [
        "#Nama Akun Jenis"
      ]
    },
    {
      "cell_type": "code",
      "execution_count": null,
      "metadata": {
        "id": "EQijRpIvWyBH"
      },
      "outputs": [],
      "source": [
        "data['namaakunjenis'].unique()"
      ]
    },
    {
      "cell_type": "code",
      "execution_count": null,
      "metadata": {
        "id": "HevwzWq7YYVk"
      },
      "outputs": [],
      "source": [
        "def PS(x):\n",
        "  if pd.isnull(x):\n",
        "    return x\n",
        "  else:\n",
        "    return x.strip()\n",
        "  \n",
        "data['namaakunjenis'] = data['namaakunjenis'].apply(PS)\n",
        "data['namaakunjenis'].unique()"
      ]
    },
    {
      "cell_type": "code",
      "execution_count": null,
      "metadata": {
        "id": "vguv9IgYZXDW"
      },
      "outputs": [],
      "source": [
        "data['namaakunjenis'].fillna('Unknown', inplace=True)\n",
        "data['namaakunjenis'].isna().sum()"
      ]
    },
    {
      "cell_type": "markdown",
      "metadata": {
        "id": "iLxZQebpP2G6"
      },
      "source": [
        "# Nama Akun Objek "
      ]
    },
    {
      "cell_type": "code",
      "execution_count": null,
      "metadata": {
        "id": "kz1tKGz5YljV"
      },
      "outputs": [],
      "source": [
        "data['namaakunobjek'].unique()\n"
      ]
    },
    {
      "cell_type": "code",
      "execution_count": null,
      "metadata": {
        "id": "Sw0wQwrOZBHd"
      },
      "outputs": [],
      "source": [
        "def PS(x):\n",
        "  if pd.isnull(x):\n",
        "    return x\n",
        "  else:\n",
        "    return x.strip()\n",
        "  \n",
        "data['namaakunobjek'] = data['namaakunobjek'].apply(PS)\n",
        "data['namaakunobjek'].unique()"
      ]
    },
    {
      "cell_type": "code",
      "execution_count": null,
      "metadata": {
        "id": "I3c7PmP9Zhx1"
      },
      "outputs": [],
      "source": [
        "data['namaakunobjek'].fillna('Unknown', inplace=True)\n",
        "data['namaakunobjek'].isna().sum()"
      ]
    },
    {
      "cell_type": "markdown",
      "metadata": {
        "id": "WxH8X4xQP_iP"
      },
      "source": [
        "# Nama Akun Rinci"
      ]
    },
    {
      "cell_type": "code",
      "execution_count": null,
      "metadata": {
        "id": "3LD-32w16ag2"
      },
      "outputs": [],
      "source": [
        "data['namaakunrinci'].unique()\n",
        "\n"
      ]
    },
    {
      "cell_type": "code",
      "execution_count": null,
      "metadata": {
        "id": "Iyub-qj8DXE2"
      },
      "outputs": [],
      "source": [
        "def PS(x):\n",
        "  if pd.isnull(x):\n",
        "    return x\n",
        "  else:\n",
        "    return x.strip()\n",
        "  \n",
        "data['namaakunrinci'] = data['namaakunrinci'].apply(PS)\n",
        "data['namaakunrinci'].unique()"
      ]
    },
    {
      "cell_type": "code",
      "execution_count": null,
      "metadata": {
        "id": "GnXwgf9VDKVw"
      },
      "outputs": [],
      "source": [
        "data['namaakunrinci'].isna().sum()\n",
        "data['namaakunrinci'].fillna('Unknown', inplace=True)"
      ]
    },
    {
      "cell_type": "code",
      "execution_count": null,
      "metadata": {
        "id": "XRhxrUj8D4L_"
      },
      "outputs": [],
      "source": [
        "data['namaakunrinci'].isna().sum()"
      ]
    },
    {
      "cell_type": "markdown",
      "metadata": {
        "id": "gUvxmhizQGDJ"
      },
      "source": [
        "# Nama Akun Sub Rinci"
      ]
    },
    {
      "cell_type": "code",
      "execution_count": null,
      "metadata": {
        "id": "HWzDCvGFEDEH"
      },
      "outputs": [],
      "source": [
        "data['namaakunsubrinci'].unique()"
      ]
    },
    {
      "cell_type": "code",
      "execution_count": null,
      "metadata": {
        "id": "1xwSfSTdEgVv"
      },
      "outputs": [],
      "source": [
        "def PS(x):\n",
        "  if pd.isnull(x):\n",
        "    return x\n",
        "  else:\n",
        "    return x.strip()\n",
        "  \n",
        "data['namaakunsubrinci'] = data['namaakunsubrinci'].apply(PS)\n",
        "data['namaakunsubrinci'].unique()"
      ]
    },
    {
      "cell_type": "code",
      "execution_count": null,
      "metadata": {
        "id": "BjklwRYnExjS"
      },
      "outputs": [],
      "source": [
        "data['namaakunsubrinci'].isna().sum()\n",
        "data['namaakunsubrinci'].fillna('Unknown', inplace=True)"
      ]
    },
    {
      "cell_type": "code",
      "execution_count": null,
      "metadata": {
        "id": "mjGfGbjTFAM7"
      },
      "outputs": [],
      "source": [
        "data['namaakunsubrinci'].isna().sum()"
      ]
    },
    {
      "cell_type": "markdown",
      "metadata": {
        "id": "utceexe2QYNC"
      },
      "source": [
        "# Nama Akun sub sub Rinci"
      ]
    },
    {
      "cell_type": "code",
      "execution_count": null,
      "metadata": {
        "id": "WDQfKp9xFVeg"
      },
      "outputs": [],
      "source": [
        "data['namaakunsubsubrinci'].unique()"
      ]
    },
    {
      "cell_type": "code",
      "execution_count": null,
      "metadata": {
        "id": "6hPVaaP5GW5f"
      },
      "outputs": [],
      "source": [
        "data['namaakunsubsubrinci'].isna().sum()\n",
        "data['namaakunsubsubrinci'].fillna('Unknown', inplace=True)"
      ]
    },
    {
      "cell_type": "markdown",
      "metadata": {
        "id": "88KKZ1RPQSzb"
      },
      "source": [
        "# Satuan "
      ]
    },
    {
      "cell_type": "code",
      "execution_count": null,
      "metadata": {
        "id": "oe3iz5ZWHLMf"
      },
      "outputs": [],
      "source": [
        "data['satuan'].unique()\n"
      ]
    },
    {
      "cell_type": "code",
      "execution_count": null,
      "metadata": {
        "id": "I8VS9OhSHm2g"
      },
      "outputs": [],
      "source": [
        "data['satuan'].isna().sum()\n",
        "data['satuan'].fillna('Unknown', inplace=True)"
      ]
    },
    {
      "cell_type": "code",
      "execution_count": null,
      "metadata": {
        "id": "urvXMtpPIsP3"
      },
      "outputs": [],
      "source": [
        "p= len(data['satuan'])\n",
        "data.groupby('satuan').size() / p * 100"
      ]
    },
    {
      "cell_type": "code",
      "execution_count": null,
      "metadata": {
        "id": "vIyVo6g-JQtI"
      },
      "outputs": [],
      "source": [
        "data['satuan'].isna().sum()"
      ]
    },
    {
      "cell_type": "markdown",
      "metadata": {
        "id": "cjtUEjZWRlVA"
      },
      "source": [
        "# Nama Sumber Dana"
      ]
    },
    {
      "cell_type": "code",
      "execution_count": null,
      "metadata": {
        "id": "bMgrMOB6LfyQ"
      },
      "outputs": [],
      "source": [
        "data['namasumberdana'].value_counts()"
      ]
    },
    {
      "cell_type": "code",
      "execution_count": null,
      "metadata": {
        "id": "vdNpfGAWMk1v"
      },
      "outputs": [],
      "source": [
        "def gh(x):\n",
        "  if pd.isnull(x):\n",
        "    return x\n",
        "  elif x[0] == '{':\n",
        "    x= x.lower()\n",
        "    y=[]\n",
        "    x = x[1:]\n",
        "    x = x[:-1]\n",
        "    x = x.replace(' ', '_')\n",
        "    x = x.replace(',', ' ')\n",
        "    x = x.replace('\"', '')\n",
        "    x= x.split()\n",
        "    for i in x:\n",
        "      i = i[3:]\n",
        "      y.append(i)\n",
        "    #y = str(y)\n",
        "    #y = y[1:]\n",
        "    #y= y[:-1]\n",
        "    return y\n",
        "  else:\n",
        "    x= x.lower()\n",
        "    x = x.replace(' ', '_')\n",
        "    x= x.strip()\n",
        "    return x\n",
        "\n"
      ]
    },
    {
      "cell_type": "code",
      "execution_count": null,
      "metadata": {
        "id": "8OmOVHkMiIPj"
      },
      "outputs": [],
      "source": [
        "\n",
        "data['namasumberdana'].fillna('Unknown', inplace=True)\n",
        "data['namasumberdana'].isna().sum()"
      ]
    },
    {
      "cell_type": "code",
      "execution_count": null,
      "metadata": {
        "id": "gTiiuv87OfCS"
      },
      "outputs": [],
      "source": [
        "import re\n",
        "\n",
        "data['namasumberdana'] = [re.sub('[^a-zA-Z\\s]', '', x) for x in data['namasumberdana'].astype(str)]\n",
        "data['namasumberdana'] = data['namasumberdana'].replace({\"\": 'Unknown'})\n",
        "data['namasumberdana'] = [x.title() for x in data['namasumberdana']]\n",
        "data['namasumberdana'].unique()"
      ]
    },
    {
      "cell_type": "markdown",
      "metadata": {
        "id": "E1xUYe3rRrMu"
      },
      "source": [
        "# Nama Sub Fungsi\n"
      ]
    },
    {
      "cell_type": "code",
      "execution_count": null,
      "metadata": {
        "id": "jFi6OKZ3Vuo5"
      },
      "outputs": [],
      "source": [
        "data['namasubfungsi']= [re.sub('[^a-zA-Z\\s]', ' ', x) for x in data['namasubfungsi'].astype(str)]\n",
        "data['namasubfungsi'].apply(PS)\n",
        "data['namasubfungsi'].value_counts()\n",
        "\n"
      ]
    },
    {
      "cell_type": "markdown",
      "metadata": {
        "id": "iiaDGYh0THAs"
      },
      "source": [
        "# Kode Akun Kelompok "
      ]
    },
    {
      "cell_type": "code",
      "execution_count": null,
      "metadata": {
        "id": "mB8m49rXbjHh"
      },
      "outputs": [],
      "source": [
        "data['kodeakunkelompok'].unique()"
      ]
    },
    {
      "cell_type": "code",
      "execution_count": null,
      "metadata": {
        "id": "kI99mDtNixQF"
      },
      "outputs": [],
      "source": [
        "data['kodeakunkelompok'].fillna('unknown', inplace=True)\n",
        "data['kodeakunkelompok'].isna().sum()"
      ]
    },
    {
      "cell_type": "code",
      "execution_count": null,
      "metadata": {
        "id": "LIuP9GVujQsD"
      },
      "outputs": [],
      "source": [
        "data['kodeakunkelompok'].value_counts()\n",
        "\n"
      ]
    },
    {
      "cell_type": "code",
      "execution_count": null,
      "metadata": {
        "id": "NQfR-RFOkuv1"
      },
      "outputs": [],
      "source": [
        "a=len(data['kodeakunkelompok'])\n",
        "data.groupby('kodeakunkelompok').size() / a * 100"
      ]
    },
    {
      "cell_type": "markdown",
      "metadata": {
        "id": "gbDT4XEATVmF"
      },
      "source": [
        "# Kode Akun Jenis"
      ]
    },
    {
      "cell_type": "code",
      "execution_count": null,
      "metadata": {
        "id": "OGW7OKLakaJ7"
      },
      "outputs": [],
      "source": [
        "a=len(data['kodeakunjenis'])\n",
        "data.groupby('kodeakunjenis').size() / a * 100\n",
        "  "
      ]
    },
    {
      "cell_type": "code",
      "execution_count": null,
      "metadata": {
        "id": "Q8MvWitNmR1d"
      },
      "outputs": [],
      "source": [
        "data['kodeakunjenis'].unique()"
      ]
    },
    {
      "cell_type": "code",
      "execution_count": null,
      "metadata": {
        "id": "RlVo9McHmfJD"
      },
      "outputs": [],
      "source": [
        "data['kodeakunjenis'].fillna('unknown', inplace=True)\n",
        "data['kodeakunjenis'].isna().sum()"
      ]
    },
    {
      "cell_type": "markdown",
      "metadata": {
        "id": "WVG0IpBBTePA"
      },
      "source": [
        "# Kode Akun Objek"
      ]
    },
    {
      "cell_type": "code",
      "execution_count": null,
      "metadata": {
        "id": "Vwf556LWm_4c"
      },
      "outputs": [],
      "source": [
        "data['kodeakunobjek'].unique()"
      ]
    },
    {
      "cell_type": "code",
      "execution_count": null,
      "metadata": {
        "id": "Ml_AmzvRms1L"
      },
      "outputs": [],
      "source": [
        "data['kodeakunobjek'].fillna('unknown', inplace=True)\n",
        "data['kodeakunobjek'].isna().sum()\n"
      ]
    },
    {
      "cell_type": "markdown",
      "metadata": {
        "id": "ulEt1jEPTlNE"
      },
      "source": [
        "# Kode Akun Rinci"
      ]
    },
    {
      "cell_type": "code",
      "execution_count": null,
      "metadata": {
        "id": "ag9O_kMrnFdb"
      },
      "outputs": [],
      "source": [
        "data['kodeakunrinci'].unique()"
      ]
    },
    {
      "cell_type": "code",
      "execution_count": null,
      "metadata": {
        "id": "j_yrRny5naG8"
      },
      "outputs": [],
      "source": [
        "data['kodeakunrinci'].fillna('unknown', inplace=True)\n",
        "data['kodeakunrinci'].isna().sum()"
      ]
    },
    {
      "cell_type": "markdown",
      "metadata": {
        "id": "e7pRrWoFUc74"
      },
      "source": [
        "# Kode akun Sub Rinci"
      ]
    },
    {
      "cell_type": "code",
      "execution_count": null,
      "metadata": {
        "id": "8P6FGld7T-Tn"
      },
      "outputs": [],
      "source": [
        "data['kodeakunsubrinci'].unique()"
      ]
    },
    {
      "cell_type": "code",
      "execution_count": null,
      "metadata": {
        "id": "ITOz6DO_UKL4"
      },
      "outputs": [],
      "source": [
        "data['kodeakunsubrinci'].fillna('Unknown', inplace=True)\n",
        "data['kodeakunsubrinci'].isna().sum()"
      ]
    },
    {
      "cell_type": "markdown",
      "metadata": {
        "id": "UR-uKcPGTri3"
      },
      "source": [
        "# Kode akun sub sub rinci"
      ]
    },
    {
      "cell_type": "code",
      "execution_count": null,
      "metadata": {
        "id": "Mg9__5AsnlsL"
      },
      "outputs": [],
      "source": [
        "data['kodeakunsubsubrinci'].unique()"
      ]
    },
    {
      "cell_type": "code",
      "execution_count": null,
      "metadata": {
        "id": "vF7OlIihn1Md"
      },
      "outputs": [],
      "source": [
        "data['kodeakunsubsubrinci'].fillna('Unknown', inplace=True)\n",
        "data['kodeakunsubsubrinci'].isna().sum()"
      ]
    },
    {
      "cell_type": "markdown",
      "metadata": {
        "id": "SKvPyVjbU-HD"
      },
      "source": [
        "# Volume"
      ]
    },
    {
      "cell_type": "code",
      "execution_count": null,
      "metadata": {
        "id": "5PGEZEqJoocy"
      },
      "outputs": [],
      "source": [
        "data['volume'].unique() "
      ]
    },
    {
      "cell_type": "code",
      "execution_count": null,
      "metadata": {
        "id": "MgVh0Mr4o-J7"
      },
      "outputs": [],
      "source": [
        "data['volume'].fillna('unknown', inplace=True)\n",
        "data['volume'].isna().sum()"
      ]
    },
    {
      "cell_type": "markdown",
      "metadata": {
        "id": "z8e_5sqUV4p1"
      },
      "source": [
        "# Harga Satuan"
      ]
    },
    {
      "cell_type": "code",
      "execution_count": null,
      "metadata": {
        "id": "FKYu_FGOpbx8"
      },
      "outputs": [],
      "source": [
        "data['hargasatuan'].fillna('unknown', inplace=True)\n",
        "data['hargasatuan'].isna().sum()\n"
      ]
    },
    {
      "cell_type": "markdown",
      "metadata": {
        "id": "IuyfHV38V7vn"
      },
      "source": [
        "# Kode Sumber dana "
      ]
    },
    {
      "cell_type": "code",
      "execution_count": null,
      "metadata": {
        "id": "9ha2CQzcqP4l"
      },
      "outputs": [],
      "source": [
        "data['kodesumberdana'].unique() "
      ]
    },
    {
      "cell_type": "code",
      "execution_count": null,
      "metadata": {
        "id": "noba0lyXrOW2"
      },
      "outputs": [],
      "source": [
        "data['kodesumberdana'].fillna('unknown', inplace=True)\n",
        "data['kodesumberdana'].isna().sum()"
      ]
    },
    {
      "cell_type": "markdown",
      "metadata": {
        "id": "yLSstfzEWB_a"
      },
      "source": [
        "# Nilai Anggaran\n"
      ]
    },
    {
      "cell_type": "code",
      "execution_count": null,
      "metadata": {
        "id": "q4GEwPg2rw21"
      },
      "outputs": [],
      "source": [
        "data['nilaianggaran'].unique() "
      ]
    },
    {
      "cell_type": "code",
      "execution_count": null,
      "metadata": {
        "id": "s3yT7a9GscDQ"
      },
      "outputs": [],
      "source": [
        "data['nilaianggaran'].fillna(0, inplace=True)\n",
        "data['nilaianggaran'].isna().sum()"
      ]
    },
    {
      "cell_type": "markdown",
      "metadata": {
        "id": "5QsEnsoRWHRa"
      },
      "source": [
        "# Kode Akun Utama"
      ]
    },
    {
      "cell_type": "code",
      "execution_count": null,
      "metadata": {
        "id": "_35gAXJk4Syr"
      },
      "outputs": [],
      "source": [
        "data['kodeakunutama'].fillna('unknown', inplace=True)\n",
        "data['kodeakunutama'].isna().sum()\n"
      ]
    },
    {
      "cell_type": "markdown",
      "metadata": {
        "id": "D_SRDiVSWKxO"
      },
      "source": [
        "#Kode Akun Sub Rinci"
      ]
    },
    {
      "cell_type": "code",
      "execution_count": null,
      "metadata": {
        "id": "JXJlUVJz5Ykd"
      },
      "outputs": [],
      "source": [
        "data['kodeakunsubrinci'].fillna('unknown', inplace=True)\n",
        "data['kodeakunsubrinci'].isna().sum()"
      ]
    },
    {
      "cell_type": "markdown",
      "metadata": {
        "id": "McKDSl7-WOjy"
      },
      "source": [
        "#Kode Fungsi"
      ]
    },
    {
      "cell_type": "code",
      "execution_count": null,
      "metadata": {
        "id": "S85Hm1I1Lg9I"
      },
      "outputs": [],
      "source": [
        "data['kodefungsi'].value_counts()"
      ]
    },
    {
      "cell_type": "code",
      "execution_count": null,
      "metadata": {
        "id": "SUZdUdQM5f2C"
      },
      "outputs": [],
      "source": [
        "data.info()"
      ]
    },
    {
      "cell_type": "markdown",
      "metadata": {
        "id": "ZcB9eC4QWSun"
      },
      "source": [
        "#Kode Lokasi "
      ]
    },
    {
      "cell_type": "code",
      "execution_count": null,
      "metadata": {
        "id": "HTI7YL8tMF1g"
      },
      "outputs": [],
      "source": [
        "data['kodelokasi'].fillna('unknown', inplace=True)\n",
        "data['kodelokasi'].isna().sum()"
      ]
    },
    {
      "cell_type": "markdown",
      "metadata": {
        "id": "cwZqK8SuJQke"
      },
      "source": [
        "#TAHAP MERGE KOLOM"
      ]
    },
    {
      "cell_type": "markdown",
      "metadata": {
        "id": "RG_YIvrgWcty"
      },
      "source": [
        "# Kode pemda + Nama Pemda"
      ]
    },
    {
      "cell_type": "code",
      "execution_count": null,
      "metadata": {
        "id": "-72KyJEXJTwG"
      },
      "outputs": [],
      "source": [
        "data['kodepemda'] = data['kodepemda'].astype(str)\n",
        "data['kodenamapenda'] = '|' + data['kodepemda'] + '|' +  data['namapemda']\n",
        "data.drop(['kodepemda','namapemda'], axis=1, inplace=True)\n",
        "data['kodenamapenda'] "
      ]
    },
    {
      "cell_type": "markdown",
      "metadata": {
        "id": "4WcpM0vfWncu"
      },
      "source": [
        "#drop Kolom bulan "
      ]
    },
    {
      "cell_type": "code",
      "execution_count": null,
      "metadata": {
        "id": "r9dCgqnZJ-0-"
      },
      "outputs": [],
      "source": [
        "data.drop('bulan', axis=1, inplace=True)"
      ]
    },
    {
      "cell_type": "markdown",
      "metadata": {
        "id": "izYw5h54WxfF"
      },
      "source": [
        "# pengembang & aplikasi "
      ]
    },
    {
      "cell_type": "code",
      "execution_count": null,
      "metadata": {
        "id": "D80S6t8qMTMn"
      },
      "outputs": [],
      "source": [
        "data['pengembang&aplikasi'] = data['pengembangaplikasi'] + ':' +  data['namaaplikasi'] \n",
        "data.drop(['pengembangaplikasi','namaaplikasi'], axis=1, inplace=True)\n",
        "data['pengembang&aplikasi'] "
      ]
    },
    {
      "cell_type": "markdown",
      "metadata": {
        "id": "zDTUnEYSW0Cc"
      },
      "source": [
        "# kode & namafungsi"
      ]
    },
    {
      "cell_type": "code",
      "execution_count": null,
      "metadata": {
        "id": "C7DFOFwlNd5t"
      },
      "outputs": [],
      "source": [
        "data['kodefungsi'] = data['kodefungsi'].astype(str)\n",
        "data['kode&namafungsi'] = '|' + data['kodefungsi'] + '|' +  data['namafungsi']\n",
        "data.drop(['kodefungsi','namafungsi'], axis=1, inplace=True)\n",
        "data['kode&namafungsi'] "
      ]
    },
    {
      "cell_type": "markdown",
      "metadata": {
        "id": "dBkwFeimXAuY"
      },
      "source": [
        "# Drop Kode Sub Fungsi "
      ]
    },
    {
      "cell_type": "code",
      "execution_count": null,
      "metadata": {
        "id": "vnaZCCELOv1k"
      },
      "outputs": [],
      "source": [
        "data.drop('kodesubfungsi', axis=1, inplace=True)"
      ]
    },
    {
      "cell_type": "markdown",
      "metadata": {
        "id": "UEMSYnuuW9ju"
      },
      "source": [
        "# kode&namaurusanprogram"
      ]
    },
    {
      "cell_type": "code",
      "execution_count": null,
      "metadata": {
        "id": "cVo9ZlQTSBo3"
      },
      "outputs": [],
      "source": [
        "data['kodeurusanprogram'] = data['kodeurusanprogram'].astype(str)\n",
        "data['kode&namaurusanprogram'] = '|' + data['kodeurusanprogram'] + '|' +  data['namaurusanprogram']\n",
        "data.drop(['kodeurusanprogram','namaurusanprogram'], axis=1, inplace=True)\n",
        "data['kode&namaurusanprogram'] "
      ]
    },
    {
      "cell_type": "markdown",
      "metadata": {
        "id": "hL4LE-MKXLMm"
      },
      "source": [
        "# kode&namaurusanpelaksana"
      ]
    },
    {
      "cell_type": "code",
      "execution_count": null,
      "metadata": {
        "id": "PrTcYdT6Sl_D"
      },
      "outputs": [],
      "source": [
        "data['kodeurusanpelaksana'] = data['kodeurusanpelaksana'].astype(str)\n",
        "data['kode&namaurusanpelaksana'] = '|' + data['kodeurusanpelaksana'] + '|' +  data['namaurusanpelaksana']\n",
        "data.drop(['kodeurusanpelaksana','namaurusanpelaksana'], axis=1, inplace=True)\n",
        "data['kode&namaurusanpelaksana'] "
      ]
    },
    {
      "cell_type": "markdown",
      "metadata": {
        "id": "jqTs24ZsXPHC"
      },
      "source": [
        "# kode&namaskpd"
      ]
    },
    {
      "cell_type": "code",
      "execution_count": null,
      "metadata": {
        "id": "MHw86iYlTQFg"
      },
      "outputs": [],
      "source": [
        "data['kodeskpd'] = data['kodeskpd'].astype(str)\n",
        "data['kode&namaskpd'] = '|' + data['kodeskpd'] + '|' +  data['namaskpd']\n",
        "data.drop(['kodeskpd','namaskpd'], axis=1, inplace=True)\n",
        "data['kode&namaskpd'] "
      ]
    },
    {
      "cell_type": "markdown",
      "metadata": {
        "id": "LHfd3zPIXStJ"
      },
      "source": [
        "# kode&namaunitskpd\n",
        "\n",
        "\n"
      ]
    },
    {
      "cell_type": "code",
      "execution_count": null,
      "metadata": {
        "id": "nPlfjqFCTp89"
      },
      "outputs": [],
      "source": [
        "data['kodeunitskpd'] = data['kodeunitskpd'].astype(str)\n",
        "data['kode&namaunitskpd'] = '|' + data['kodeunitskpd'] + '|' +  data['namaunitskpd']\n",
        "data.drop(['kodeunitskpd','namaunitskpd'], axis=1, inplace=True)\n",
        "data['kode&namaunitskpd'] "
      ]
    },
    {
      "cell_type": "markdown",
      "metadata": {
        "id": "Z8HynG6zXas7"
      },
      "source": [
        "#kode&namaprogram"
      ]
    },
    {
      "cell_type": "code",
      "execution_count": null,
      "metadata": {
        "id": "y2uyOKIbUBR0"
      },
      "outputs": [],
      "source": [
        "data['kodeprogram'] = data['kodeprogram'].astype(str)\n",
        "data['kode&namaprogram'] = '|' + data['kodeprogram'] + '|' +  data['namaprogram']\n",
        "data.drop(['kodeprogram','namaprogram'], axis=1, inplace=True)\n",
        "data['kode&namaprogram'] "
      ]
    },
    {
      "cell_type": "markdown",
      "metadata": {
        "id": "R758WebPXd3U"
      },
      "source": [
        "# kode&namakegiatan\n"
      ]
    },
    {
      "cell_type": "code",
      "execution_count": null,
      "metadata": {
        "id": "E1Ejl33DUciH"
      },
      "outputs": [],
      "source": [
        "data['kodekegiatan'] = data['kodekegiatan'].astype(str)\n",
        "data['kode&namakegiatan'] = '|' + data['kodekegiatan'] + '|' +  data['namakegiatan']\n",
        "data.drop(['kodekegiatan','namakegiatan'], axis=1, inplace=True)\n",
        "data['kode&namakegiatan'] "
      ]
    },
    {
      "cell_type": "markdown",
      "metadata": {
        "id": "RgxPxW-VXiZH"
      },
      "source": [
        "# kodenamaakunutama"
      ]
    },
    {
      "cell_type": "code",
      "execution_count": null,
      "metadata": {
        "id": "D8cLT8LO6s8M"
      },
      "outputs": [],
      "source": [
        "data['kodeakunutama'] = data['kodeakunutama'].astype(str)\n",
        "data['kodenamaakunutama'] = '|' + data['kodeakunutama'] + '|' +  data['namaakunutama']\n",
        "data.drop(['kodeakunutama','namaakunutama'], axis=1, inplace=True)\n",
        "data['kodenamaakunutama'] \n"
      ]
    },
    {
      "cell_type": "markdown",
      "metadata": {
        "id": "_pC-Bh3bXoQn"
      },
      "source": [
        "# kodenamaakunkelompok"
      ]
    },
    {
      "cell_type": "code",
      "execution_count": null,
      "metadata": {
        "id": "QhBpI0H39G30"
      },
      "outputs": [],
      "source": [
        "data['kodeakunkelompok'] = data['kodeakunkelompok'].astype(str)\n",
        "data['kodenamaakunkelompok'] = '|' + data['kodeakunkelompok'] + '|' +  data['namaakunkelompok']\n",
        "data.drop(['kodeakunkelompok','namaakunkelompok'], axis=1, inplace=True)\n",
        "data['kodenamaakunkelompok'] "
      ]
    },
    {
      "cell_type": "markdown",
      "metadata": {
        "id": "hS1MCS1KXrJn"
      },
      "source": [
        "# kodenamaakunjenis"
      ]
    },
    {
      "cell_type": "code",
      "execution_count": null,
      "metadata": {
        "id": "RU9kwhul-2dV"
      },
      "outputs": [],
      "source": [
        "data['kodeakunjenis'] = data['kodeakunjenis'].astype(str)\n",
        "data['kodenamaakunjenis'] = '|' + data['kodeakunjenis'] + '|' +  data['namaakunjenis']\n",
        "data.drop(['kodeakunjenis','namaakunjenis'], axis=1, inplace=True)\n",
        "data['kodenamaakunjenis'] "
      ]
    },
    {
      "cell_type": "markdown",
      "metadata": {
        "id": "-XmuFiMMXtKE"
      },
      "source": [
        "# kodenamaakunobjek\n"
      ]
    },
    {
      "cell_type": "code",
      "execution_count": null,
      "metadata": {
        "id": "4z7s2GFp_55u"
      },
      "outputs": [],
      "source": [
        "data['kodeakunobjek'] = data['kodeakunobjek'].astype(str)\n",
        "data['kodenamaakunobjek'] = '|' + data['kodeakunobjek'] + '|' +  data['namaakunobjek']\n",
        "data.drop(['kodeakunobjek','namaakunobjek'], axis=1, inplace=True)\n",
        "data['kodenamaakunobjek']"
      ]
    },
    {
      "cell_type": "markdown",
      "metadata": {
        "id": "N3zbp17dXxi1"
      },
      "source": [
        "# kodenamaakunrinci"
      ]
    },
    {
      "cell_type": "code",
      "execution_count": null,
      "metadata": {
        "id": "PFRIxoUbBiZs"
      },
      "outputs": [],
      "source": [
        "data['kodeakunrinci'] = data['kodeakunrinci'].astype(str)\n",
        "data['kodenamaakunrinci'] = '|' + data['kodeakunrinci'] + '|' +  data['namaakunrinci']\n",
        "data.drop(['kodeakunrinci','namaakunrinci'], axis=1, inplace=True)\n",
        "data['kodenamaakunrinci']"
      ]
    },
    {
      "cell_type": "markdown",
      "metadata": {
        "id": "HD_2e2jcX09y"
      },
      "source": [
        "# kodenamaakunsubrinci"
      ]
    },
    {
      "cell_type": "code",
      "execution_count": null,
      "metadata": {
        "id": "kdEIj7SiChde"
      },
      "outputs": [],
      "source": [
        "data['kodeakunsubrinci'] = data['kodeakunsubrinci'].astype(str)\n",
        "data['kodenamaakunsubrinci'] = '|' + data['kodeakunsubrinci'] + '|' +  data['namaakunsubrinci']\n",
        "data.drop(['kodeakunsubrinci','namaakunsubrinci'], axis=1, inplace=True)\n",
        "data['kodenamaakunsubrinci']"
      ]
    },
    {
      "cell_type": "markdown",
      "metadata": {
        "id": "GVJSfjGtYQ5A"
      },
      "source": [
        "# kodenamaakunsubsubrinci"
      ]
    },
    {
      "cell_type": "code",
      "execution_count": null,
      "metadata": {
        "id": "dv4XP2agDSrW"
      },
      "outputs": [],
      "source": [
        "data['kodeakunsubsubrinci'] = data['kodeakunsubsubrinci'].astype(str)\n",
        "data['kodenamaakunsubsubrinci'] = '|' + data['kodeakunsubsubrinci'] + '|' +  data['namaakunsubsubrinci']\n",
        "data.drop(['kodeakunsubsubrinci','namaakunsubsubrinci'], axis=1, inplace=True)\n",
        "data['kodenamaakunsubsubrinci'].unique()"
      ]
    },
    {
      "cell_type": "markdown",
      "metadata": {
        "id": "ygkK1C5_YS9c"
      },
      "source": [
        "# kodenamasumberdana"
      ]
    },
    {
      "cell_type": "code",
      "execution_count": null,
      "metadata": {
        "id": "VaC370fxEZu-"
      },
      "outputs": [],
      "source": [
        "data['kodesumberdana'] = data['kodesumberdana'].astype(str)\n",
        "data['kodenamasumberdana'] = '|' + data['kodesumberdana'] + '|' +  data['namasumberdana']\n",
        "data.drop(['kodesumberdana','namasumberdana'], axis=1, inplace=True)\n",
        "data['kodenamasumberdana']"
      ]
    },
    {
      "cell_type": "markdown",
      "metadata": {
        "id": "bMJu6g5rYXJP"
      },
      "source": [
        "# kodenamasubkegaiatan"
      ]
    },
    {
      "cell_type": "code",
      "execution_count": null,
      "metadata": {
        "id": "zz6_Kc-3FY0e"
      },
      "outputs": [],
      "source": [
        "data['kodesubkegiatan'] = data['kodesubkegiatan'].astype(str)\n",
        "data['kodenamasubkegaiatan'] = '|' + data['kodesubkegiatan'] + '|' +  data['namasubkegiatan']\n",
        "data.drop(['kodesubkegiatan','namasubkegiatan'], axis=1, inplace=True)\n",
        "data['kodenamasubkegaiatan'].unique()"
      ]
    },
    {
      "cell_type": "markdown",
      "metadata": {
        "id": "ohH7EiJcYafJ"
      },
      "source": [
        "# volumesatuan"
      ]
    },
    {
      "cell_type": "code",
      "execution_count": null,
      "metadata": {
        "id": "-nbax2WBYI-m"
      },
      "outputs": [],
      "source": [
        "data['volume'] = data['volume'].astype(str)\n",
        "data['volumesatuan'] = '|' + data['volume'] + '|' +  data['satuan']\n",
        "data.drop(['volume','satuan'], axis=1, inplace=True)\n",
        "data['volumesatuan'].unique()"
      ]
    },
    {
      "cell_type": "markdown",
      "metadata": {
        "id": "w6n4soQGYggx"
      },
      "source": [
        "# kodenamalokasi"
      ]
    },
    {
      "cell_type": "code",
      "execution_count": null,
      "metadata": {
        "id": "4A_IWlaNZE13"
      },
      "outputs": [],
      "source": [
        "data['kodelokasi'] = data['kodelokasi'].astype(str)\n",
        "data['kodenamalokasi'] = '|' + data['kodelokasi'] + '|' +  data['namalokasi']\n",
        "data.drop(['kodelokasi','namalokasi'], axis=1, inplace=True)\n",
        "data['kodenamalokasi'].unique()"
      ]
    },
    {
      "cell_type": "code",
      "execution_count": null,
      "metadata": {
        "id": "KUE3eI8sGJdu"
      },
      "outputs": [],
      "source": [
        "data.info()\n"
      ]
    },
    {
      "cell_type": "code",
      "execution_count": null,
      "metadata": {
        "id": "SnGoX1Xry7uS"
      },
      "outputs": [],
      "source": [
        "data['namaoutcome'].value_counts()"
      ]
    },
    {
      "cell_type": "code",
      "execution_count": null,
      "metadata": {
        "id": "YglO5yDDoMGr"
      },
      "outputs": [],
      "source": [
        "p = data[['kodenamapenda','nilaianggaran']].groupby('kodenamapenda').agg(Total_Anggaran=pd.NamedAgg(column='nilaianggaran',aggfunc='sum'))\n",
        "p.sort_values('Total_Anggaran',ascending=False)\n"
      ]
    },
    {
      "cell_type": "code",
      "execution_count": null,
      "metadata": {
        "id": "ukvm2piotoG0"
      },
      "outputs": [],
      "source": [
        "\n",
        "p = data[['tanggalperda','nilaianggaran']].groupby('tanggalperda').agg(Total_Anggaran=pd.NamedAgg(column='nilaianggaran',aggfunc='sum'))\n",
        "p.sort_values('Total_Anggaran',ascending=False)"
      ]
    },
    {
      "cell_type": "code",
      "source": [
        "d=data['kode&namakegiatan'].unique()"
      ],
      "metadata": {
        "id": "8oCZsBZLOFwD"
      },
      "execution_count": null,
      "outputs": []
    },
    {
      "cell_type": "code",
      "execution_count": null,
      "metadata": {
        "id": "M0ka79Jlvh8v"
      },
      "outputs": [],
      "source": [
        "data[['nomorperda','tanggalperda']]"
      ]
    },
    {
      "cell_type": "code",
      "execution_count": null,
      "metadata": {
        "id": "weHQwqPOwGRL"
      },
      "outputs": [],
      "source": [
        "data[['targetoutcome','namaoutcome']]"
      ]
    },
    {
      "cell_type": "code",
      "execution_count": null,
      "metadata": {
        "id": "_SRHuf7h8xKP"
      },
      "outputs": [],
      "source": [
        "p = data[['targetoutput','satuanoutput','namaoutput','nilaianggaran']].groupby(['targetoutput','satuanoutput','namaoutput']).agg(Total_Anggaran=pd.NamedAgg(column='nilaianggaran',aggfunc='sum'))\n",
        "p.sort_values('Total_Anggaran',ascending=False)"
      ]
    },
    {
      "cell_type": "code",
      "execution_count": null,
      "metadata": {
        "id": "DJk4Sdgr7nym"
      },
      "outputs": [],
      "source": [
        "data[['targetoutput','satuanoutput','namaoutput']]"
      ]
    },
    {
      "cell_type": "code",
      "execution_count": null,
      "metadata": {
        "id": "WdubxCVVUarL"
      },
      "outputs": [],
      "source": [
        "data['nilaianggaran']\n"
      ]
    },
    {
      "cell_type": "code",
      "execution_count": null,
      "metadata": {
        "id": "MFy6xCTRXL3c"
      },
      "outputs": [],
      "source": [
        "data = data.drop_duplicates()"
      ]
    },
    {
      "cell_type": "code",
      "execution_count": null,
      "metadata": {
        "id": "126CYxl7X_bM"
      },
      "outputs": [],
      "source": [
        "data"
      ]
    },
    {
      "cell_type": "code",
      "source": [
        "data.duplicated().sum()"
      ],
      "metadata": {
        "id": "4JySPlxhBIGo"
      },
      "execution_count": null,
      "outputs": []
    },
    {
      "cell_type": "code",
      "execution_count": null,
      "metadata": {
        "id": "oi9xWy4VYNt7"
      },
      "outputs": [],
      "source": [
        "data.info()"
      ]
    },
    {
      "cell_type": "code",
      "source": [
        "data[['volumesatuan','hargasatuan']]"
      ],
      "metadata": {
        "id": "74LcBNfLIkGz"
      },
      "execution_count": null,
      "outputs": []
    },
    {
      "cell_type": "code",
      "source": [
        "data.to_csv('/content/drive/MyDrive/Hackhaton/outAPBD.csv')"
      ],
      "metadata": {
        "id": "_7WxbRIVJ7KV"
      },
      "execution_count": null,
      "outputs": []
    },
    {
      "cell_type": "markdown",
      "metadata": {
        "id": "X-SO0dGz3Nr5"
      },
      "source": []
    }
  ],
  "metadata": {
    "colab": {
      "collapsed_sections": [],
      "provenance": []
    },
    "kernelspec": {
      "display_name": "Python 3",
      "name": "python3"
    },
    "language_info": {
      "name": "python"
    }
  },
  "nbformat": 4,
  "nbformat_minor": 0
}